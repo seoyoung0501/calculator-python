{
  "nbformat": 4,
  "nbformat_minor": 0,
  "metadata": {
    "colab": {
      "provenance": [],
      "authorship_tag": "ABX9TyNl3ZxCR7SQyOxvcn8sLq+K",
      "include_colab_link": true
    },
    "kernelspec": {
      "name": "python3",
      "display_name": "Python 3"
    },
    "language_info": {
      "name": "python"
    }
  },
  "cells": [
    {
      "cell_type": "markdown",
      "metadata": {
        "id": "view-in-github",
        "colab_type": "text"
      },
      "source": [
        "<a href=\"https://colab.research.google.com/github/seoyoung0501/calculator-python/blob/main/Untitled4.ipynb\" target=\"_parent\"><img src=\"https://colab.research.google.com/assets/colab-badge.svg\" alt=\"Open In Colab\"/></a>"
      ]
    },
    {
      "cell_type": "code",
      "execution_count": null,
      "metadata": {
        "id": "iWSDiC7uzAaM"
      },
      "outputs": [],
      "source": [
        "def average(numbers):\n",
        "    return sum(numbers) / len(numbers) if numbers else 0\n",
        "\n",
        "if __name__ == \"__main__\":\n",
        "    nums = input(\"숫자 여러 개를 공백으로 구분하여 입력하세요: \")\n",
        "    numbers = list(map(float, nums.split()))\n",
        "    print(\"평균:\", average(numbers))"
      ]
    }
  ]
}