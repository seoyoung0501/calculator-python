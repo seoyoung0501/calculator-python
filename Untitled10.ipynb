{
  "nbformat": 4,
  "nbformat_minor": 0,
  "metadata": {
    "colab": {
      "provenance": [],
      "authorship_tag": "ABX9TyO9qQl8ycanWX0bc5jh9/wX",
      "include_colab_link": true
    },
    "kernelspec": {
      "name": "python3",
      "display_name": "Python 3"
    },
    "language_info": {
      "name": "python"
    }
  },
  "cells": [
    {
      "cell_type": "markdown",
      "metadata": {
        "id": "view-in-github",
        "colab_type": "text"
      },
      "source": [
        "<a href=\"https://colab.research.google.com/github/seoyoung0501/calculator-python/blob/main/Untitled10.ipynb\" target=\"_parent\"><img src=\"https://colab.research.google.com/assets/colab-badge.svg\" alt=\"Open In Colab\"/></a>"
      ]
    },
    {
      "cell_type": "code",
      "execution_count": null,
      "metadata": {
        "id": "h2onI3t90mE8"
      },
      "outputs": [],
      "source": [
        "import turtle\n",
        "\n",
        "def robot_simulator():\n",
        "    screen = turtle.Screen()\n",
        "    screen.title(\"그림 그리는 로봇 시뮬레이터\")\n",
        "    t = turtle.Turtle()\n",
        "\n",
        "    print(\"명령어 리스트:\")\n",
        "    print(\"forward X  : 앞으로 X 픽셀 이동\")\n",
        "    print(\"backward X : 뒤로 X 픽셀 이동\")\n",
        "    print(\"left X     : 왼쪽으로 X 도 회전\")\n",
        "    print(\"right X    : 오른쪽으로 X 도 회전\")\n",
        "    print(\"penup      : 펜 들어올리기 (그림 안 그림)\")\n",
        "    print(\"pendown    : 펜 내리기 (그림 그림)\")\n",
        "    print(\"color C    : 펜 색깔 C로 변경 (예: red, blue)\")\n",
        "    print(\"reset      : 화면 초기화 및 위치 원점으로\")\n",
        "    print(\"exit       : 종료\")\n",
        "\n",
        "    while True:\n",
        "        command = input(\"명령어 입력: \").strip().lower()\n",
        "        if command == \"exit\":\n",
        "            print(\"프로그램 종료\")\n",
        "            break\n",
        "\n",
        "        parts = command.split()\n",
        "\n",
        "        try:\n",
        "            if parts[0] == \"forward\":\n",
        "                t.forward(int(parts[1]))\n",
        "            elif parts[0] == \"backward\":\n",
        "                t.backward(int(parts[1]))\n",
        "            elif parts[0] == \"left\":\n",
        "                t.left(int(parts[1]))\n",
        "            elif parts[0] == \"right\":\n",
        "                t.right(int(parts[1]))\n",
        "            elif parts[0] == \"penup\":\n",
        "                t.penup()\n",
        "            elif parts[0] == \"pendown\":\n",
        "                t.pendown()\n",
        "            elif parts[0] == \"color\":\n",
        "                t.pencolor(parts[1])\n",
        "            elif parts[0] == \"reset\":\n",
        "                t.reset()\n",
        "            else:\n",
        "                print(\"알 수 없는 명령어입니다.\")\n",
        "        except (IndexError, ValueError):\n",
        "            print(\"명령어 형식이 올바르지 않습니다.\")\n",
        "\n",
        "    turtle.done()\n",
        "\n",
        "if __name__ == \"__main__\":\n",
        "    robot_simulator()\n",
        "\n"
      ]
    }
  ]
}