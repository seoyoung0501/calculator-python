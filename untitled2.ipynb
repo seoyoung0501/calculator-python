{
  "nbformat": 4,
  "nbformat_minor": 0,
  "metadata": {
    "colab": {
      "provenance": [],
      "authorship_tag": "ABX9TyNt2oMke4s4Zcf59on8sBtq",
      "include_colab_link": true
    },
    "kernelspec": {
      "name": "python3",
      "display_name": "Python 3"
    },
    "language_info": {
      "name": "python"
    }
  },
  "cells": [
    {
      "cell_type": "markdown",
      "metadata": {
        "id": "view-in-github",
        "colab_type": "text"
      },
      "source": [
        "<a href=\"https://colab.research.google.com/github/seoyoung0501/calculator-python/blob/main/untitled2.ipynb\" target=\"_parent\"><img src=\"https://colab.research.google.com/assets/colab-badge.svg\" alt=\"Open In Colab\"/></a>"
      ]
    },
    {
      "cell_type": "code",
      "execution_count": null,
      "metadata": {
        "id": "5sm7lGevxo2-"
      },
      "outputs": [],
      "source": [
        "def add(a, b):\n",
        "    return a + b\n",
        "\n",
        "def subtract(a, b):\n",
        "    return a - b\n",
        "\n",
        "def multiply(a, b):\n",
        "    return a * b\n",
        "\n",
        "def divide(a, b):\n",
        "    if b == 0:\n",
        "        return \"0으로 나눌 수 없습니다.\"\n",
        "    return a / b\n",
        "\n",
        "def calculator():\n",
        "    print(\"간단한 계산기 프로그램\")\n",
        "    while True:\n",
        "        try:\n",
        "            a = float(input(\"첫 번째 숫자 입력: \"))\n",
        "            op = input(\"연산자 입력 (+, -, *, /), 종료하려면 q 입력: \")\n",
        "            if op.lower() == 'q':\n",
        "                print(\"프로그램 종료\")\n",
        "                break\n",
        "            b = float(input(\"두 번째 숫자 입력: \"))\n",
        "\n",
        "            if op == '+':\n",
        "                result = add(a, b)\n",
        "            elif op == '-':\n",
        "                result = subtract(a, b)\n",
        "            elif op == '*':\n",
        "                result = multiply(a, b)\n",
        "            elif op == '/':\n",
        "                result = divide(a, b)\n",
        "            else:\n",
        "                print(\"잘못된 연산자입니다. 다시 입력하세요.\")\n",
        "                continue\n",
        "\n",
        "            print(f\"결과: {result}\\n\")\n",
        "\n",
        "        except ValueError:\n",
        "            print(\"잘못된 입력입니다. 숫자를 입력하세요.\\n\")\n",
        "\n",
        "if __name__ == \"__main__\":\n",
        "    calculator()\n"
      ]
    }
  ]
}