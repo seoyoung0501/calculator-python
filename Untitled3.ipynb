{
  "nbformat": 4,
  "nbformat_minor": 0,
  "metadata": {
    "colab": {
      "provenance": [],
      "authorship_tag": "ABX9TyORDM5m1cctmM7itKGqHlFS",
      "include_colab_link": true
    },
    "kernelspec": {
      "name": "python3",
      "display_name": "Python 3"
    },
    "language_info": {
      "name": "python"
    }
  },
  "cells": [
    {
      "cell_type": "markdown",
      "metadata": {
        "id": "view-in-github",
        "colab_type": "text"
      },
      "source": [
        "<a href=\"https://colab.research.google.com/github/seoyoung0501/calculator-python/blob/main/Untitled3.ipynb\" target=\"_parent\"><img src=\"https://colab.research.google.com/assets/colab-badge.svg\" alt=\"Open In Colab\"/></a>"
      ]
    },
    {
      "cell_type": "code",
      "execution_count": null,
      "metadata": {
        "id": "0EYNsihpyrc7"
      },
      "outputs": [],
      "source": [
        "import random\n",
        "\n",
        "def roll_dice():\n",
        "    return random.randint(1, 6)\n",
        "\n",
        "def dice_game():\n",
        "    print(\"주사위 굴리기!\")\n",
        "    while True:\n",
        "        input(\"굴리려면 엔터, 종료하려면 q 입력: \")\n",
        "        if input().lower() == 'q':\n",
        "            print(\"게임 종료\")\n",
        "            break\n",
        "        print(f\"주사위 숫자: {roll_dice()}\")\n",
        "\n",
        "if __name__ == \"__main__\":\n",
        "    dice_game()\n"
      ]
    }
  ]
}